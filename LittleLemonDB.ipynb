{
 "cells": [
  {
   "cell_type": "code",
   "execution_count": 1,
   "id": "a7670ea4-a163-4364-bea1-555be84ae1f6",
   "metadata": {},
   "outputs": [
    {
     "name": "stdout",
     "output_type": "stream",
     "text": [
      "Requirement already satisfied: mysql-connector-python in c:\\users\\kjang\\appdata\\local\\programs\\python\\python311\\lib\\site-packages (8.3.0)\n",
      "Note: you may need to restart the kernel to use updated packages.\n"
     ]
    }
   ],
   "source": [
    "pip install mysql-connector-python"
   ]
  },
  {
   "cell_type": "code",
   "execution_count": 2,
   "id": "de913c3f-b354-4d37-89e2-cb0f28c0fce6",
   "metadata": {},
   "outputs": [],
   "source": [
    "import mysql.connector as connector"
   ]
  },
  {
   "cell_type": "code",
   "execution_count": 3,
   "id": "ec0decce-2c82-498b-984a-2e285a202e1a",
   "metadata": {},
   "outputs": [],
   "source": [
    "connection = connector.connect(user = \"db-capstone-user\", password = \"Dbcapstone@01\")"
   ]
  },
  {
   "cell_type": "code",
   "execution_count": 4,
   "id": "db1757a9-a829-4c9d-91f2-0e35a6d6b5fa",
   "metadata": {},
   "outputs": [],
   "source": [
    "connection = connector.connect(user = \"db-capstone-user\", password = \"Dbcapstone@01\", db=\"littlelemondb\")"
   ]
  },
  {
   "cell_type": "code",
   "execution_count": 5,
   "id": "b8ffb128-e1f6-4033-89cd-7e6d75b70189",
   "metadata": {},
   "outputs": [],
   "source": [
    "show_tables_query = \"SHOW tables\" "
   ]
  },
  {
   "cell_type": "code",
   "execution_count": 6,
   "id": "8cc70e32-bfea-4bdf-916f-f11bcfe1a115",
   "metadata": {},
   "outputs": [],
   "source": [
    "cursor = connection.cursor()"
   ]
  },
  {
   "cell_type": "code",
   "execution_count": 7,
   "id": "e9acb5c6-4864-4f80-8b6e-ae6d129051f7",
   "metadata": {},
   "outputs": [],
   "source": [
    "cursor.execute(show_tables_query)"
   ]
  },
  {
   "cell_type": "code",
   "execution_count": 8,
   "id": "3123bfd8-badb-44fc-adb6-7c6fe4c20907",
   "metadata": {},
   "outputs": [],
   "source": [
    "results = cursor.fetchall()"
   ]
  },
  {
   "cell_type": "code",
   "execution_count": 9,
   "id": "bd60aeba-2c85-42ae-a623-b3e4f5ba29c1",
   "metadata": {},
   "outputs": [
    {
     "name": "stdout",
     "output_type": "stream",
     "text": [
      "[('bookings',), ('customers',), ('menu',), ('menu items',), ('order delivery status',), ('orders',), ('ordersview',), ('staff',)]\n"
     ]
    }
   ],
   "source": [
    "print(results)"
   ]
  },
  {
   "cell_type": "code",
   "execution_count": 10,
   "id": "52560b92-3756-4e88-98a9-1772b1b3f0d6",
   "metadata": {},
   "outputs": [
    {
     "name": "stdout",
     "output_type": "stream",
     "text": [
      "('bookings',)\n",
      "('customers',)\n",
      "('menu',)\n",
      "('menu items',)\n",
      "('order delivery status',)\n",
      "('orders',)\n",
      "('ordersview',)\n",
      "('staff',)\n"
     ]
    }
   ],
   "source": [
    "for result in results:\n",
    "    print(result)"
   ]
  },
  {
   "cell_type": "code",
   "execution_count": 11,
   "id": "c6e5d8f3-c52c-4b01-b68f-c621ae9edc5d",
   "metadata": {},
   "outputs": [],
   "source": [
    "query_with_join = '''\n",
    "    SELECT c.Customer_name AS \"Customer Name\", c.Contact_no AS \"Contact Details\", o.Total_cost AS \"Total Cost\" FROM\n",
    "    customers c \n",
    "    INNER JOIN bookings b ON c.Customer_id = b.Customer_id\n",
    "    INNER JOIN orders o ON b.Booking_id = o.Booking_id\n",
    "    WHERE o.Total_cost > 60;\n",
    "'''"
   ]
  },
  {
   "cell_type": "code",
   "execution_count": 12,
   "id": "38f38824-13bb-4411-9aaa-e56f607f7bae",
   "metadata": {},
   "outputs": [],
   "source": [
    "cursor.execute(query_with_join)"
   ]
  },
  {
   "cell_type": "code",
   "execution_count": 13,
   "id": "4db0f258-9313-491a-9d0e-019839995293",
   "metadata": {},
   "outputs": [],
   "source": [
    "results = cursor.fetchall()"
   ]
  },
  {
   "cell_type": "code",
   "execution_count": 15,
   "id": "e5eabeb7-9709-406d-816f-51649a875f65",
   "metadata": {},
   "outputs": [
    {
     "name": "stdout",
     "output_type": "stream",
     "text": [
      "('Customer Name', 'Contact Details', 'Total Cost')\n",
      "('John', 89124519, Decimal('245.75'))\n",
      "('Steve', 89123748, Decimal('98.50'))\n",
      "('John', 89124519, Decimal('72.30'))\n"
     ]
    }
   ],
   "source": [
    "print(cursor.column_names)\n",
    "for result in results:\n",
    "    print(result)"
   ]
  },
  {
   "cell_type": "code",
   "execution_count": null,
   "id": "c0b7d1df-24fb-47d2-accf-5f5f292e07d3",
   "metadata": {},
   "outputs": [],
   "source": []
  }
 ],
 "metadata": {
  "kernelspec": {
   "display_name": "Python 3 (ipykernel)",
   "language": "python",
   "name": "python3"
  },
  "language_info": {
   "codemirror_mode": {
    "name": "ipython",
    "version": 3
   },
   "file_extension": ".py",
   "mimetype": "text/x-python",
   "name": "python",
   "nbconvert_exporter": "python",
   "pygments_lexer": "ipython3",
   "version": "3.11.5"
  }
 },
 "nbformat": 4,
 "nbformat_minor": 5
}
